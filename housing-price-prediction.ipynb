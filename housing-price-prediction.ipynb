{
  "nbformat": 4,
  "nbformat_minor": 0,
  "metadata": {
    "colab": {
      "name": "housing-price-prediction.ipynb",
      "provenance": []
    },
    "kernelspec": {
      "name": "python3",
      "display_name": "Python 3"
    },
    "language_info": {
      "name": "python"
    }
  },
  "cells": [
    {
      "cell_type": "code",
      "metadata": {
        "id": "06zobsWbuxy1"
      },
      "source": [
        "# Import libraries\n",
        "import os\n",
        "import numpy as np\n",
        "import pandas as pd\n",
        "import seaborn as sns\n",
        "import tensorflow as tf\n",
        "import matplotlib.pyplot as plt\n",
        "\n",
        "from keras.regularizers import l2\n",
        "from keras.optimizers import Adam\n",
        "from keras.models import Sequential\n",
        "from keras.layers import Dense, Dropout\n",
        "from keras.utils.np_utils import to_categorical\n",
        "\n",
        "from sklearn import preprocessing\n",
        "from sklearn.model_selection import train_test_split\n",
        "from sklearn.metrics import confusion_matrix, precision_score, recall_score, f1_score"
      ],
      "execution_count": 53,
      "outputs": []
    },
    {
      "cell_type": "code",
      "metadata": {
        "colab": {
          "base_uri": "https://localhost:8080/"
        },
        "id": "d_wNOfmawIlo",
        "outputId": "5c07e27f-b4ca-4fa0-9e78-43952ef421df"
      },
      "source": [
        "# Get dataset\n",
        "!gdown https://drive.google.com/uc?id=1GfvKA0qznNVknghV4botnNxyH-KvODOC"
      ],
      "execution_count": 20,
      "outputs": [
        {
          "output_type": "stream",
          "text": [
            "Downloading...\n",
            "From: https://drive.google.com/uc?id=1GfvKA0qznNVknghV4botnNxyH-KvODOC\n",
            "To: /content/housepricedata.csv\n",
            "\r  0% 0.00/45.1k [00:00<?, ?B/s]\r100% 45.1k/45.1k [00:00<00:00, 16.5MB/s]\n"
          ],
          "name": "stdout"
        }
      ]
    },
    {
      "cell_type": "code",
      "metadata": {
        "colab": {
          "base_uri": "https://localhost:8080/",
          "height": 226
        },
        "id": "At2t7_J3wLC_",
        "outputId": "51004eda-c6db-45f3-b985-7ecde18bf3f7"
      },
      "source": [
        "df = pd.read_csv(\"/content/housepricedata.csv\")\n",
        "df.head()"
      ],
      "execution_count": 21,
      "outputs": [
        {
          "output_type": "execute_result",
          "data": {
            "text/html": [
              "<div>\n",
              "<style scoped>\n",
              "    .dataframe tbody tr th:only-of-type {\n",
              "        vertical-align: middle;\n",
              "    }\n",
              "\n",
              "    .dataframe tbody tr th {\n",
              "        vertical-align: top;\n",
              "    }\n",
              "\n",
              "    .dataframe thead th {\n",
              "        text-align: right;\n",
              "    }\n",
              "</style>\n",
              "<table border=\"1\" class=\"dataframe\">\n",
              "  <thead>\n",
              "    <tr style=\"text-align: right;\">\n",
              "      <th></th>\n",
              "      <th>LotArea</th>\n",
              "      <th>OverallQual</th>\n",
              "      <th>OverallCond</th>\n",
              "      <th>TotalBsmtSF</th>\n",
              "      <th>FullBath</th>\n",
              "      <th>HalfBath</th>\n",
              "      <th>BedroomAbvGr</th>\n",
              "      <th>TotRmsAbvGrd</th>\n",
              "      <th>Fireplaces</th>\n",
              "      <th>GarageArea</th>\n",
              "      <th>AboveMedianPrice</th>\n",
              "    </tr>\n",
              "  </thead>\n",
              "  <tbody>\n",
              "    <tr>\n",
              "      <th>0</th>\n",
              "      <td>8450</td>\n",
              "      <td>7</td>\n",
              "      <td>5</td>\n",
              "      <td>856</td>\n",
              "      <td>2</td>\n",
              "      <td>1</td>\n",
              "      <td>3</td>\n",
              "      <td>8</td>\n",
              "      <td>0</td>\n",
              "      <td>548</td>\n",
              "      <td>1</td>\n",
              "    </tr>\n",
              "    <tr>\n",
              "      <th>1</th>\n",
              "      <td>9600</td>\n",
              "      <td>6</td>\n",
              "      <td>8</td>\n",
              "      <td>1262</td>\n",
              "      <td>2</td>\n",
              "      <td>0</td>\n",
              "      <td>3</td>\n",
              "      <td>6</td>\n",
              "      <td>1</td>\n",
              "      <td>460</td>\n",
              "      <td>1</td>\n",
              "    </tr>\n",
              "    <tr>\n",
              "      <th>2</th>\n",
              "      <td>11250</td>\n",
              "      <td>7</td>\n",
              "      <td>5</td>\n",
              "      <td>920</td>\n",
              "      <td>2</td>\n",
              "      <td>1</td>\n",
              "      <td>3</td>\n",
              "      <td>6</td>\n",
              "      <td>1</td>\n",
              "      <td>608</td>\n",
              "      <td>1</td>\n",
              "    </tr>\n",
              "    <tr>\n",
              "      <th>3</th>\n",
              "      <td>9550</td>\n",
              "      <td>7</td>\n",
              "      <td>5</td>\n",
              "      <td>756</td>\n",
              "      <td>1</td>\n",
              "      <td>0</td>\n",
              "      <td>3</td>\n",
              "      <td>7</td>\n",
              "      <td>1</td>\n",
              "      <td>642</td>\n",
              "      <td>0</td>\n",
              "    </tr>\n",
              "    <tr>\n",
              "      <th>4</th>\n",
              "      <td>14260</td>\n",
              "      <td>8</td>\n",
              "      <td>5</td>\n",
              "      <td>1145</td>\n",
              "      <td>2</td>\n",
              "      <td>1</td>\n",
              "      <td>4</td>\n",
              "      <td>9</td>\n",
              "      <td>1</td>\n",
              "      <td>836</td>\n",
              "      <td>1</td>\n",
              "    </tr>\n",
              "  </tbody>\n",
              "</table>\n",
              "</div>"
            ],
            "text/plain": [
              "   LotArea  OverallQual  OverallCond  ...  Fireplaces  GarageArea  AboveMedianPrice\n",
              "0     8450            7            5  ...           0         548                 1\n",
              "1     9600            6            8  ...           1         460                 1\n",
              "2    11250            7            5  ...           1         608                 1\n",
              "3     9550            7            5  ...           1         642                 0\n",
              "4    14260            8            5  ...           1         836                 1\n",
              "\n",
              "[5 rows x 11 columns]"
            ]
          },
          "metadata": {
            "tags": []
          },
          "execution_count": 21
        }
      ]
    },
    {
      "cell_type": "code",
      "metadata": {
        "colab": {
          "base_uri": "https://localhost:8080/",
          "height": 320
        },
        "id": "YxwMOqh3z7cI",
        "outputId": "15bc44f7-4833-4ebe-ca16-ec39bbab62f8"
      },
      "source": [
        "df.describe()"
      ],
      "execution_count": 22,
      "outputs": [
        {
          "output_type": "execute_result",
          "data": {
            "text/html": [
              "<div>\n",
              "<style scoped>\n",
              "    .dataframe tbody tr th:only-of-type {\n",
              "        vertical-align: middle;\n",
              "    }\n",
              "\n",
              "    .dataframe tbody tr th {\n",
              "        vertical-align: top;\n",
              "    }\n",
              "\n",
              "    .dataframe thead th {\n",
              "        text-align: right;\n",
              "    }\n",
              "</style>\n",
              "<table border=\"1\" class=\"dataframe\">\n",
              "  <thead>\n",
              "    <tr style=\"text-align: right;\">\n",
              "      <th></th>\n",
              "      <th>LotArea</th>\n",
              "      <th>OverallQual</th>\n",
              "      <th>OverallCond</th>\n",
              "      <th>TotalBsmtSF</th>\n",
              "      <th>FullBath</th>\n",
              "      <th>HalfBath</th>\n",
              "      <th>BedroomAbvGr</th>\n",
              "      <th>TotRmsAbvGrd</th>\n",
              "      <th>Fireplaces</th>\n",
              "      <th>GarageArea</th>\n",
              "      <th>AboveMedianPrice</th>\n",
              "    </tr>\n",
              "  </thead>\n",
              "  <tbody>\n",
              "    <tr>\n",
              "      <th>count</th>\n",
              "      <td>1460.000000</td>\n",
              "      <td>1460.000000</td>\n",
              "      <td>1460.000000</td>\n",
              "      <td>1460.000000</td>\n",
              "      <td>1460.000000</td>\n",
              "      <td>1460.000000</td>\n",
              "      <td>1460.000000</td>\n",
              "      <td>1460.000000</td>\n",
              "      <td>1460.000000</td>\n",
              "      <td>1460.000000</td>\n",
              "      <td>1460.000000</td>\n",
              "    </tr>\n",
              "    <tr>\n",
              "      <th>mean</th>\n",
              "      <td>10516.828082</td>\n",
              "      <td>6.099315</td>\n",
              "      <td>5.575342</td>\n",
              "      <td>1057.429452</td>\n",
              "      <td>1.565068</td>\n",
              "      <td>0.382877</td>\n",
              "      <td>2.866438</td>\n",
              "      <td>6.517808</td>\n",
              "      <td>0.613014</td>\n",
              "      <td>472.980137</td>\n",
              "      <td>0.498630</td>\n",
              "    </tr>\n",
              "    <tr>\n",
              "      <th>std</th>\n",
              "      <td>9981.264932</td>\n",
              "      <td>1.382997</td>\n",
              "      <td>1.112799</td>\n",
              "      <td>438.705324</td>\n",
              "      <td>0.550916</td>\n",
              "      <td>0.502885</td>\n",
              "      <td>0.815778</td>\n",
              "      <td>1.625393</td>\n",
              "      <td>0.644666</td>\n",
              "      <td>213.804841</td>\n",
              "      <td>0.500169</td>\n",
              "    </tr>\n",
              "    <tr>\n",
              "      <th>min</th>\n",
              "      <td>1300.000000</td>\n",
              "      <td>1.000000</td>\n",
              "      <td>1.000000</td>\n",
              "      <td>0.000000</td>\n",
              "      <td>0.000000</td>\n",
              "      <td>0.000000</td>\n",
              "      <td>0.000000</td>\n",
              "      <td>2.000000</td>\n",
              "      <td>0.000000</td>\n",
              "      <td>0.000000</td>\n",
              "      <td>0.000000</td>\n",
              "    </tr>\n",
              "    <tr>\n",
              "      <th>25%</th>\n",
              "      <td>7553.500000</td>\n",
              "      <td>5.000000</td>\n",
              "      <td>5.000000</td>\n",
              "      <td>795.750000</td>\n",
              "      <td>1.000000</td>\n",
              "      <td>0.000000</td>\n",
              "      <td>2.000000</td>\n",
              "      <td>5.000000</td>\n",
              "      <td>0.000000</td>\n",
              "      <td>334.500000</td>\n",
              "      <td>0.000000</td>\n",
              "    </tr>\n",
              "    <tr>\n",
              "      <th>50%</th>\n",
              "      <td>9478.500000</td>\n",
              "      <td>6.000000</td>\n",
              "      <td>5.000000</td>\n",
              "      <td>991.500000</td>\n",
              "      <td>2.000000</td>\n",
              "      <td>0.000000</td>\n",
              "      <td>3.000000</td>\n",
              "      <td>6.000000</td>\n",
              "      <td>1.000000</td>\n",
              "      <td>480.000000</td>\n",
              "      <td>0.000000</td>\n",
              "    </tr>\n",
              "    <tr>\n",
              "      <th>75%</th>\n",
              "      <td>11601.500000</td>\n",
              "      <td>7.000000</td>\n",
              "      <td>6.000000</td>\n",
              "      <td>1298.250000</td>\n",
              "      <td>2.000000</td>\n",
              "      <td>1.000000</td>\n",
              "      <td>3.000000</td>\n",
              "      <td>7.000000</td>\n",
              "      <td>1.000000</td>\n",
              "      <td>576.000000</td>\n",
              "      <td>1.000000</td>\n",
              "    </tr>\n",
              "    <tr>\n",
              "      <th>max</th>\n",
              "      <td>215245.000000</td>\n",
              "      <td>10.000000</td>\n",
              "      <td>9.000000</td>\n",
              "      <td>6110.000000</td>\n",
              "      <td>3.000000</td>\n",
              "      <td>2.000000</td>\n",
              "      <td>8.000000</td>\n",
              "      <td>14.000000</td>\n",
              "      <td>3.000000</td>\n",
              "      <td>1418.000000</td>\n",
              "      <td>1.000000</td>\n",
              "    </tr>\n",
              "  </tbody>\n",
              "</table>\n",
              "</div>"
            ],
            "text/plain": [
              "             LotArea  OverallQual  ...   GarageArea  AboveMedianPrice\n",
              "count    1460.000000  1460.000000  ...  1460.000000       1460.000000\n",
              "mean    10516.828082     6.099315  ...   472.980137          0.498630\n",
              "std      9981.264932     1.382997  ...   213.804841          0.500169\n",
              "min      1300.000000     1.000000  ...     0.000000          0.000000\n",
              "25%      7553.500000     5.000000  ...   334.500000          0.000000\n",
              "50%      9478.500000     6.000000  ...   480.000000          0.000000\n",
              "75%     11601.500000     7.000000  ...   576.000000          1.000000\n",
              "max    215245.000000    10.000000  ...  1418.000000          1.000000\n",
              "\n",
              "[8 rows x 11 columns]"
            ]
          },
          "metadata": {
            "tags": []
          },
          "execution_count": 22
        }
      ]
    },
    {
      "cell_type": "code",
      "metadata": {
        "colab": {
          "base_uri": "https://localhost:8080/",
          "height": 296
        },
        "id": "6q5BaRn3yFYj",
        "outputId": "e31f4974-bd6d-4a79-a25e-242de263825a"
      },
      "source": [
        "sns.countplot(x=\"AboveMedianPrice\", data=df)"
      ],
      "execution_count": 23,
      "outputs": [
        {
          "output_type": "execute_result",
          "data": {
            "text/plain": [
              "<matplotlib.axes._subplots.AxesSubplot at 0x7f4c60e8cf50>"
            ]
          },
          "metadata": {
            "tags": []
          },
          "execution_count": 23
        },
        {
          "output_type": "display_data",
          "data": {
            "image/png": "[encoded data removed]",
            "text/plain": [
              "<Figure size 432x288 with 1 Axes>"
            ]
          },
          "metadata": {
            "tags": [],
            "needs_background": "light"
          }
        }
      ]
    },
    {
      "cell_type": "code",
      "metadata": {
        "id": "rnExgfU2yfU0"
      },
      "source": [
        "# Get Xs and ys\n",
        "X = df.drop(columns=[\"AboveMedianPrice\"])\n",
        "y = df[\"AboveMedianPrice\"]"
      ],
      "execution_count": 24,
      "outputs": []
    },
    {
      "cell_type": "code",
      "metadata": {
        "id": "4cfWr1Yc3VxS"
      },
      "source": [
        "# Scale input\n",
        "min_max_scaler = preprocessing.MinMaxScaler()\n",
        "X = min_max_scaler.fit_transform(X)"
      ],
      "execution_count": 25,
      "outputs": []
    },
    {
      "cell_type": "code",
      "metadata": {
        "colab": {
          "base_uri": "https://localhost:8080/"
        },
        "id": "s-Qi5dPN0gsS",
        "outputId": "b2dede7e-f810-405f-e634-97b7bb2f3b04"
      },
      "source": [
        "# Split the data into train and test\n",
        "X_train, X_test, y_train, y_test = train_test_split(X, y, train_size=0.8, random_state=42)\n",
        "\n",
        "print(X_train.shape, y_train.shape)"
      ],
      "execution_count": 26,
      "outputs": [
        {
          "output_type": "stream",
          "text": [
            "(1168, 10) (1168,)\n"
          ],
          "name": "stdout"
        }
      ]
    },
    {
      "cell_type": "code",
      "metadata": {
        "colab": {
          "base_uri": "https://localhost:8080/"
        },
        "id": "qZ68phBP1I3d",
        "outputId": "129a0e4f-8e5d-439f-e186-35e9bfdfe2d9"
      },
      "source": [
        "y_train = to_categorical(y_train, 2)\n",
        "y_test = to_categorical(y_test, 2)\n",
        "\n",
        "print(y_train.shape)"
      ],
      "execution_count": 27,
      "outputs": [
        {
          "output_type": "stream",
          "text": [
            "(1168, 2)\n"
          ],
          "name": "stdout"
        }
      ]
    },
    {
      "cell_type": "code",
      "metadata": {
        "colab": {
          "base_uri": "https://localhost:8080/"
        },
        "id": "jeg_BWvZ1pCz",
        "outputId": "4a97365c-5d48-4be6-ee33-9bfd3100d80a"
      },
      "source": [
        "# Define the model\n",
        "model = Sequential()\n",
        "model.add(Dense(256, activation='relu', kernel_regularizer=l2(0.001), input_shape=(X_train.shape[1],)))\n",
        "model.add(Dropout(0.5))\n",
        "\n",
        "model.add(Dense(64, activation='relu', kernel_regularizer=l2(0.001)))\n",
        "model.add(Dropout(0.4))\n",
        "\n",
        "model.add(Dense(64, activation='relu', kernel_regularizer=l2(0.001)))\n",
        "model.add(Dropout(0.3))\n",
        "\n",
        "model.add(Dense(y_train.shape[1], activation='sigmoid'))\n",
        "\n",
        "opt = Adam(learning_rate=0.00107)\n",
        "\n",
        "# Train the model\n",
        "model.compile(\n",
        "  loss='binary_crossentropy',\n",
        "  optimizer=opt,\n",
        "  metrics=['acc']\n",
        ")\n",
        "                   \n",
        "history = model.fit(\n",
        "  X_train, y_train,\n",
        "  epochs=100, \n",
        "  batch_size=32,\n",
        "  validation_split=0.15,\n",
        "  shuffle=True\n",
        ")"
      ],
      "execution_count": 67,
      "outputs": [
        {
          "output_type": "stream",
          "text": [
            "Epoch 1/100\n",
            "31/31 [==============================] - 2s 17ms/step - loss: 0.8591 - acc: 0.5302 - val_loss: 0.7881 - val_acc: 0.5455\n",
            "Epoch 2/100\n",
            "31/31 [==============================] - 0s 4ms/step - loss: 0.7600 - acc: 0.6699 - val_loss: 0.6427 - val_acc: 0.8352\n",
            "Epoch 3/100\n",
            "31/31 [==============================] - 0s 3ms/step - loss: 0.6203 - acc: 0.7901 - val_loss: 0.5183 - val_acc: 0.8011\n",
            "Epoch 4/100\n",
            "31/31 [==============================] - 0s 4ms/step - loss: 0.5122 - acc: 0.8383 - val_loss: 0.4624 - val_acc: 0.8352\n",
            "Epoch 5/100\n",
            "31/31 [==============================] - 0s 5ms/step - loss: 0.4739 - acc: 0.8380 - val_loss: 0.4352 - val_acc: 0.8409\n",
            "Epoch 6/100\n",
            "31/31 [==============================] - 0s 4ms/step - loss: 0.4506 - acc: 0.8404 - val_loss: 0.4269 - val_acc: 0.8580\n",
            "Epoch 7/100\n",
            "31/31 [==============================] - 0s 4ms/step - loss: 0.4371 - acc: 0.8607 - val_loss: 0.4034 - val_acc: 0.8409\n",
            "Epoch 8/100\n",
            "31/31 [==============================] - 0s 4ms/step - loss: 0.4005 - acc: 0.8851 - val_loss: 0.4042 - val_acc: 0.8523\n",
            "Epoch 9/100\n",
            "31/31 [==============================] - 0s 4ms/step - loss: 0.4208 - acc: 0.8591 - val_loss: 0.3931 - val_acc: 0.8466\n",
            "Epoch 10/100\n",
            "31/31 [==============================] - 0s 4ms/step - loss: 0.3751 - acc: 0.8737 - val_loss: 0.3708 - val_acc: 0.8523\n",
            "Epoch 11/100\n",
            "31/31 [==============================] - 0s 3ms/step - loss: 0.3911 - acc: 0.8639 - val_loss: 0.3673 - val_acc: 0.8636\n",
            "Epoch 12/100\n",
            "31/31 [==============================] - 0s 4ms/step - loss: 0.3666 - acc: 0.8739 - val_loss: 0.3592 - val_acc: 0.8580\n",
            "Epoch 13/100\n",
            "31/31 [==============================] - 0s 4ms/step - loss: 0.4075 - acc: 0.8639 - val_loss: 0.3824 - val_acc: 0.8693\n",
            "Epoch 14/100\n",
            "31/31 [==============================] - 0s 4ms/step - loss: 0.3725 - acc: 0.8740 - val_loss: 0.3430 - val_acc: 0.8693\n",
            "Epoch 15/100\n",
            "31/31 [==============================] - 0s 5ms/step - loss: 0.3432 - acc: 0.8874 - val_loss: 0.3422 - val_acc: 0.8750\n",
            "Epoch 16/100\n",
            "31/31 [==============================] - 0s 4ms/step - loss: 0.3692 - acc: 0.8822 - val_loss: 0.3461 - val_acc: 0.8636\n",
            "Epoch 17/100\n",
            "31/31 [==============================] - 0s 3ms/step - loss: 0.3554 - acc: 0.8806 - val_loss: 0.3339 - val_acc: 0.8523\n",
            "Epoch 18/100\n",
            "31/31 [==============================] - 0s 3ms/step - loss: 0.3449 - acc: 0.8979 - val_loss: 0.3234 - val_acc: 0.8750\n",
            "Epoch 19/100\n",
            "31/31 [==============================] - 0s 3ms/step - loss: 0.3471 - acc: 0.8824 - val_loss: 0.3157 - val_acc: 0.8636\n",
            "Epoch 20/100\n",
            "31/31 [==============================] - 0s 4ms/step - loss: 0.3501 - acc: 0.8744 - val_loss: 0.3397 - val_acc: 0.8636\n",
            "Epoch 21/100\n",
            "31/31 [==============================] - 0s 3ms/step - loss: 0.3823 - acc: 0.8643 - val_loss: 0.3197 - val_acc: 0.8750\n",
            "Epoch 22/100\n",
            "31/31 [==============================] - 0s 4ms/step - loss: 0.3693 - acc: 0.8877 - val_loss: 0.3130 - val_acc: 0.8693\n",
            "Epoch 23/100\n",
            "31/31 [==============================] - 0s 4ms/step - loss: 0.3170 - acc: 0.8963 - val_loss: 0.3046 - val_acc: 0.8977\n",
            "Epoch 24/100\n",
            "31/31 [==============================] - 0s 3ms/step - loss: 0.3470 - acc: 0.8836 - val_loss: 0.3070 - val_acc: 0.8977\n",
            "Epoch 25/100\n",
            "31/31 [==============================] - 0s 3ms/step - loss: 0.3500 - acc: 0.8757 - val_loss: 0.3219 - val_acc: 0.8864\n",
            "Epoch 26/100\n",
            "31/31 [==============================] - 0s 4ms/step - loss: 0.3398 - acc: 0.8877 - val_loss: 0.3046 - val_acc: 0.8864\n",
            "Epoch 27/100\n",
            "31/31 [==============================] - 0s 4ms/step - loss: 0.3165 - acc: 0.9006 - val_loss: 0.3036 - val_acc: 0.8977\n",
            "Epoch 28/100\n",
            "31/31 [==============================] - 0s 3ms/step - loss: 0.3613 - acc: 0.8751 - val_loss: 0.3009 - val_acc: 0.8920\n",
            "Epoch 29/100\n",
            "31/31 [==============================] - 0s 3ms/step - loss: 0.3188 - acc: 0.8888 - val_loss: 0.3162 - val_acc: 0.8920\n",
            "Epoch 30/100\n",
            "31/31 [==============================] - 0s 4ms/step - loss: 0.3450 - acc: 0.8619 - val_loss: 0.2981 - val_acc: 0.9034\n",
            "Epoch 31/100\n",
            "31/31 [==============================] - 0s 3ms/step - loss: 0.3620 - acc: 0.8754 - val_loss: 0.3022 - val_acc: 0.8977\n",
            "Epoch 32/100\n",
            "31/31 [==============================] - 0s 4ms/step - loss: 0.3292 - acc: 0.8909 - val_loss: 0.2927 - val_acc: 0.8977\n",
            "Epoch 33/100\n",
            "31/31 [==============================] - 0s 4ms/step - loss: 0.3246 - acc: 0.8889 - val_loss: 0.3160 - val_acc: 0.8920\n",
            "Epoch 34/100\n",
            "31/31 [==============================] - 0s 4ms/step - loss: 0.3076 - acc: 0.8937 - val_loss: 0.2950 - val_acc: 0.9091\n",
            "Epoch 35/100\n",
            "31/31 [==============================] - 0s 3ms/step - loss: 0.3246 - acc: 0.8762 - val_loss: 0.2928 - val_acc: 0.9091\n",
            "Epoch 36/100\n",
            "31/31 [==============================] - 0s 4ms/step - loss: 0.3351 - acc: 0.8823 - val_loss: 0.2934 - val_acc: 0.8977\n",
            "Epoch 37/100\n",
            "31/31 [==============================] - 0s 3ms/step - loss: 0.3462 - acc: 0.8757 - val_loss: 0.3162 - val_acc: 0.8807\n",
            "Epoch 38/100\n",
            "31/31 [==============================] - 0s 4ms/step - loss: 0.3086 - acc: 0.8906 - val_loss: 0.3068 - val_acc: 0.8864\n",
            "Epoch 39/100\n",
            "31/31 [==============================] - 0s 3ms/step - loss: 0.2951 - acc: 0.8899 - val_loss: 0.2844 - val_acc: 0.9034\n",
            "Epoch 40/100\n",
            "31/31 [==============================] - 0s 4ms/step - loss: 0.2870 - acc: 0.8909 - val_loss: 0.2872 - val_acc: 0.8977\n",
            "Epoch 41/100\n",
            "31/31 [==============================] - 0s 4ms/step - loss: 0.3142 - acc: 0.8821 - val_loss: 0.2886 - val_acc: 0.9034\n",
            "Epoch 42/100\n",
            "31/31 [==============================] - 0s 3ms/step - loss: 0.3062 - acc: 0.8976 - val_loss: 0.3007 - val_acc: 0.8920\n",
            "Epoch 43/100\n",
            "31/31 [==============================] - 0s 3ms/step - loss: 0.3241 - acc: 0.8884 - val_loss: 0.2899 - val_acc: 0.8920\n",
            "Epoch 44/100\n",
            "31/31 [==============================] - 0s 3ms/step - loss: 0.3043 - acc: 0.8849 - val_loss: 0.2871 - val_acc: 0.9034\n",
            "Epoch 45/100\n",
            "31/31 [==============================] - 0s 3ms/step - loss: 0.3108 - acc: 0.8945 - val_loss: 0.2823 - val_acc: 0.8977\n",
            "Epoch 46/100\n",
            "31/31 [==============================] - 0s 3ms/step - loss: 0.2812 - acc: 0.8979 - val_loss: 0.2936 - val_acc: 0.8864\n",
            "Epoch 47/100\n",
            "31/31 [==============================] - 0s 3ms/step - loss: 0.3009 - acc: 0.8736 - val_loss: 0.2838 - val_acc: 0.8977\n",
            "Epoch 48/100\n",
            "31/31 [==============================] - 0s 4ms/step - loss: 0.3075 - acc: 0.8944 - val_loss: 0.3023 - val_acc: 0.8920\n",
            "Epoch 49/100\n",
            "31/31 [==============================] - 0s 3ms/step - loss: 0.3087 - acc: 0.9005 - val_loss: 0.2828 - val_acc: 0.9148\n",
            "Epoch 50/100\n",
            "31/31 [==============================] - 0s 3ms/step - loss: 0.3045 - acc: 0.8897 - val_loss: 0.2972 - val_acc: 0.8864\n",
            "Epoch 51/100\n",
            "31/31 [==============================] - 0s 4ms/step - loss: 0.3060 - acc: 0.8833 - val_loss: 0.2940 - val_acc: 0.8864\n",
            "Epoch 52/100\n",
            "31/31 [==============================] - 0s 4ms/step - loss: 0.2993 - acc: 0.8873 - val_loss: 0.2815 - val_acc: 0.9148\n",
            "Epoch 53/100\n",
            "31/31 [==============================] - 0s 4ms/step - loss: 0.2954 - acc: 0.8895 - val_loss: 0.2882 - val_acc: 0.9034\n",
            "Epoch 54/100\n",
            "31/31 [==============================] - 0s 4ms/step - loss: 0.3006 - acc: 0.8728 - val_loss: 0.3456 - val_acc: 0.8636\n",
            "Epoch 55/100\n",
            "31/31 [==============================] - 0s 4ms/step - loss: 0.3248 - acc: 0.8860 - val_loss: 0.2830 - val_acc: 0.9091\n",
            "Epoch 56/100\n",
            "31/31 [==============================] - 0s 3ms/step - loss: 0.2919 - acc: 0.8958 - val_loss: 0.2891 - val_acc: 0.8977\n",
            "Epoch 57/100\n",
            "31/31 [==============================] - 0s 4ms/step - loss: 0.2990 - acc: 0.8889 - val_loss: 0.2775 - val_acc: 0.9148\n",
            "Epoch 58/100\n",
            "31/31 [==============================] - 0s 4ms/step - loss: 0.3142 - acc: 0.8897 - val_loss: 0.2948 - val_acc: 0.8807\n",
            "Epoch 59/100\n",
            "31/31 [==============================] - 0s 3ms/step - loss: 0.2973 - acc: 0.9013 - val_loss: 0.2805 - val_acc: 0.8977\n",
            "Epoch 60/100\n",
            "31/31 [==============================] - 0s 3ms/step - loss: 0.3129 - acc: 0.8839 - val_loss: 0.2752 - val_acc: 0.8977\n",
            "Epoch 61/100\n",
            "31/31 [==============================] - 0s 3ms/step - loss: 0.2854 - acc: 0.8918 - val_loss: 0.2757 - val_acc: 0.9034\n",
            "Epoch 62/100\n",
            "31/31 [==============================] - 0s 4ms/step - loss: 0.2781 - acc: 0.8767 - val_loss: 0.2888 - val_acc: 0.8920\n",
            "Epoch 63/100\n",
            "31/31 [==============================] - 0s 4ms/step - loss: 0.2851 - acc: 0.8867 - val_loss: 0.2933 - val_acc: 0.8864\n",
            "Epoch 64/100\n",
            "31/31 [==============================] - 0s 4ms/step - loss: 0.3128 - acc: 0.8722 - val_loss: 0.2970 - val_acc: 0.8920\n",
            "Epoch 65/100\n",
            "31/31 [==============================] - 0s 3ms/step - loss: 0.3215 - acc: 0.8889 - val_loss: 0.2767 - val_acc: 0.9205\n",
            "Epoch 66/100\n",
            "31/31 [==============================] - 0s 4ms/step - loss: 0.2997 - acc: 0.8975 - val_loss: 0.2745 - val_acc: 0.9148\n",
            "Epoch 67/100\n",
            "31/31 [==============================] - 0s 3ms/step - loss: 0.2743 - acc: 0.9042 - val_loss: 0.2752 - val_acc: 0.9091\n",
            "Epoch 68/100\n",
            "31/31 [==============================] - 0s 4ms/step - loss: 0.2909 - acc: 0.8954 - val_loss: 0.2804 - val_acc: 0.9091\n",
            "Epoch 69/100\n",
            "31/31 [==============================] - 0s 4ms/step - loss: 0.2983 - acc: 0.9031 - val_loss: 0.2881 - val_acc: 0.8920\n",
            "Epoch 70/100\n",
            "31/31 [==============================] - 0s 3ms/step - loss: 0.2945 - acc: 0.8954 - val_loss: 0.2749 - val_acc: 0.9148\n",
            "Epoch 71/100\n",
            "31/31 [==============================] - 0s 3ms/step - loss: 0.2664 - acc: 0.9051 - val_loss: 0.2784 - val_acc: 0.9091\n",
            "Epoch 72/100\n",
            "31/31 [==============================] - 0s 4ms/step - loss: 0.2919 - acc: 0.8976 - val_loss: 0.2723 - val_acc: 0.9034\n",
            "Epoch 73/100\n",
            "31/31 [==============================] - 0s 4ms/step - loss: 0.2895 - acc: 0.9033 - val_loss: 0.2748 - val_acc: 0.9034\n",
            "Epoch 74/100\n",
            "31/31 [==============================] - 0s 4ms/step - loss: 0.2993 - acc: 0.8887 - val_loss: 0.2775 - val_acc: 0.9091\n",
            "Epoch 75/100\n",
            "31/31 [==============================] - 0s 3ms/step - loss: 0.2810 - acc: 0.8934 - val_loss: 0.2742 - val_acc: 0.9034\n",
            "Epoch 76/100\n",
            "31/31 [==============================] - 0s 3ms/step - loss: 0.3159 - acc: 0.8878 - val_loss: 0.2819 - val_acc: 0.8977\n",
            "Epoch 77/100\n",
            "31/31 [==============================] - 0s 4ms/step - loss: 0.3070 - acc: 0.8904 - val_loss: 0.2717 - val_acc: 0.9148\n",
            "Epoch 78/100\n",
            "31/31 [==============================] - 0s 3ms/step - loss: 0.3068 - acc: 0.8898 - val_loss: 0.2722 - val_acc: 0.9148\n",
            "Epoch 79/100\n",
            "31/31 [==============================] - 0s 3ms/step - loss: 0.3053 - acc: 0.8838 - val_loss: 0.2883 - val_acc: 0.8977\n",
            "Epoch 80/100\n",
            "31/31 [==============================] - 0s 4ms/step - loss: 0.2643 - acc: 0.8943 - val_loss: 0.2916 - val_acc: 0.8977\n",
            "Epoch 81/100\n",
            "31/31 [==============================] - 0s 6ms/step - loss: 0.2648 - acc: 0.9038 - val_loss: 0.2710 - val_acc: 0.9091\n",
            "Epoch 82/100\n",
            "31/31 [==============================] - 0s 3ms/step - loss: 0.2884 - acc: 0.8985 - val_loss: 0.2695 - val_acc: 0.9091\n",
            "Epoch 83/100\n",
            "31/31 [==============================] - 0s 3ms/step - loss: 0.3110 - acc: 0.8846 - val_loss: 0.2924 - val_acc: 0.8864\n",
            "Epoch 84/100\n",
            "31/31 [==============================] - 0s 3ms/step - loss: 0.2876 - acc: 0.9066 - val_loss: 0.2779 - val_acc: 0.8977\n",
            "Epoch 85/100\n",
            "31/31 [==============================] - 0s 3ms/step - loss: 0.2981 - acc: 0.8846 - val_loss: 0.2745 - val_acc: 0.8977\n",
            "Epoch 86/100\n",
            "31/31 [==============================] - 0s 3ms/step - loss: 0.2903 - acc: 0.8941 - val_loss: 0.2755 - val_acc: 0.8977\n",
            "Epoch 87/100\n",
            "31/31 [==============================] - 0s 3ms/step - loss: 0.2525 - acc: 0.8892 - val_loss: 0.2881 - val_acc: 0.8864\n",
            "Epoch 88/100\n",
            "31/31 [==============================] - 0s 3ms/step - loss: 0.2905 - acc: 0.9032 - val_loss: 0.2730 - val_acc: 0.9091\n",
            "Epoch 89/100\n",
            "31/31 [==============================] - 0s 4ms/step - loss: 0.2768 - acc: 0.8923 - val_loss: 0.2691 - val_acc: 0.9034\n",
            "Epoch 90/100\n",
            "31/31 [==============================] - 0s 4ms/step - loss: 0.2803 - acc: 0.8866 - val_loss: 0.2787 - val_acc: 0.9091\n",
            "Epoch 91/100\n",
            "31/31 [==============================] - 0s 4ms/step - loss: 0.3092 - acc: 0.8956 - val_loss: 0.2967 - val_acc: 0.8807\n",
            "Epoch 92/100\n",
            "31/31 [==============================] - 0s 4ms/step - loss: 0.2979 - acc: 0.9002 - val_loss: 0.2816 - val_acc: 0.8977\n",
            "Epoch 93/100\n",
            "31/31 [==============================] - 0s 3ms/step - loss: 0.2947 - acc: 0.9044 - val_loss: 0.2727 - val_acc: 0.9091\n",
            "Epoch 94/100\n",
            "31/31 [==============================] - 0s 3ms/step - loss: 0.2882 - acc: 0.8947 - val_loss: 0.2767 - val_acc: 0.9091\n",
            "Epoch 95/100\n",
            "31/31 [==============================] - 0s 3ms/step - loss: 0.2870 - acc: 0.9031 - val_loss: 0.2760 - val_acc: 0.9034\n",
            "Epoch 96/100\n",
            "31/31 [==============================] - 0s 3ms/step - loss: 0.2824 - acc: 0.8916 - val_loss: 0.2744 - val_acc: 0.9034\n",
            "Epoch 97/100\n",
            "31/31 [==============================] - 0s 3ms/step - loss: 0.2961 - acc: 0.8903 - val_loss: 0.2685 - val_acc: 0.9148\n",
            "Epoch 98/100\n",
            "31/31 [==============================] - 0s 3ms/step - loss: 0.2528 - acc: 0.8934 - val_loss: 0.2702 - val_acc: 0.9034\n",
            "Epoch 99/100\n",
            "31/31 [==============================] - 0s 4ms/step - loss: 0.2849 - acc: 0.8906 - val_loss: 0.2701 - val_acc: 0.9091\n",
            "Epoch 100/100\n",
            "31/31 [==============================] - 0s 3ms/step - loss: 0.2498 - acc: 0.9140 - val_loss: 0.2686 - val_acc: 0.9205\n"
          ],
          "name": "stdout"
        }
      ]
    },
    {
      "cell_type": "code",
      "metadata": {
        "colab": {
          "base_uri": "https://localhost:8080/"
        },
        "id": "jBwdC6vD118Z",
        "outputId": "25b5294d-cc77-49e1-8844-70c4863ad700"
      },
      "source": [
        "model.summary()"
      ],
      "execution_count": 68,
      "outputs": [
        {
          "output_type": "stream",
          "text": [
            "Model: \"sequential_25\"\n",
            "_________________________________________________________________\n",
            "Layer (type)                 Output Shape              Param #   \n",
            "=================================================================\n",
            "dense_100 (Dense)            (None, 256)               2816      \n",
            "_________________________________________________________________\n",
            "dropout_75 (Dropout)         (None, 256)               0         \n",
            "_________________________________________________________________\n",
            "dense_101 (Dense)            (None, 64)                16448     \n",
            "_________________________________________________________________\n",
            "dropout_76 (Dropout)         (None, 64)                0         \n",
            "_________________________________________________________________\n",
            "dense_102 (Dense)            (None, 64)                4160      \n",
            "_________________________________________________________________\n",
            "dropout_77 (Dropout)         (None, 64)                0         \n",
            "_________________________________________________________________\n",
            "dense_103 (Dense)            (None, 2)                 130       \n",
            "=================================================================\n",
            "Total params: 23,554\n",
            "Trainable params: 23,554\n",
            "Non-trainable params: 0\n",
            "_________________________________________________________________\n"
          ],
          "name": "stdout"
        }
      ]
    },
    {
      "cell_type": "code",
      "metadata": {
        "colab": {
          "base_uri": "https://localhost:8080/",
          "height": 265
        },
        "id": "tbB1AgwT12bR",
        "outputId": "abab1214-3f24-40c7-d532-e4e8e411b12c"
      },
      "source": [
        "# Show model training graph\n",
        "plt.plot(history.history['loss'], label='training loss')\n",
        "plt.plot(history.history['val_loss'], label='testing loss')\n",
        "plt.legend();"
      ],
      "execution_count": 69,
      "outputs": [
        {
          "output_type": "display_data",
          "data": {
            "image/png": "[encoded data removed]",
            "text/plain": [
              "<Figure size 432x288 with 1 Axes>"
            ]
          },
          "metadata": {
            "tags": [],
            "needs_background": "light"
          }
        }
      ]
    },
    {
      "cell_type": "code",
      "metadata": {
        "colab": {
          "base_uri": "https://localhost:8080/",
          "height": 265
        },
        "id": "X4nm4hMY15TM",
        "outputId": "dda5b94b-5df0-436c-ff65-c8de5e06fa0a"
      },
      "source": [
        "# Show model training graph\n",
        "plt.plot(history.history['acc'], label='training accuracy')\n",
        "plt.plot(history.history['val_acc'], label='testing accuracy')\n",
        "plt.legend();"
      ],
      "execution_count": 70,
      "outputs": [
        {
          "output_type": "display_data",
          "data": {
            "image/png": "[encoded data removed]",
            "text/plain": [
              "<Figure size 432x288 with 1 Axes>"
            ]
          },
          "metadata": {
            "tags": [],
            "needs_background": "light"
          }
        }
      ]
    },
    {
      "cell_type": "code",
      "metadata": {
        "colab": {
          "base_uri": "https://localhost:8080/"
        },
        "id": "GBbBj3Qe2BHo",
        "outputId": "a3a3cdf6-f914-445d-8d3e-d65e577956e8"
      },
      "source": [
        "# Evaluate the model\n",
        "model.evaluate(X_test, y_test)"
      ],
      "execution_count": 71,
      "outputs": [
        {
          "output_type": "stream",
          "text": [
            "10/10 [==============================] - 0s 2ms/step - loss: 0.2249 - acc: 0.9247\n"
          ],
          "name": "stdout"
        },
        {
          "output_type": "execute_result",
          "data": {
            "text/plain": [
              "[0.22494131326675415, 0.9246575236320496]"
            ]
          },
          "metadata": {
            "tags": []
          },
          "execution_count": 71
        }
      ]
    },
    {
      "cell_type": "code",
      "metadata": {
        "colab": {
          "base_uri": "https://localhost:8080/",
          "height": 585
        },
        "id": "UR34-2My2DK5",
        "outputId": "d56381fa-bb64-4c18-caea-411aa245790a"
      },
      "source": [
        "# Confusion matrix\n",
        "y_pred = np.argmax(model.predict(X_test), axis=-1)\n",
        "\n",
        "y_test_round = np.argmax(y_test, axis=1)\n",
        "\n",
        "cm = confusion_matrix(y_test_round, y_pred)\n",
        "\n",
        "figure = plt.figure(figsize=(8, 8))\n",
        "sns.heatmap(cm, annot=True, cmap=plt.cm.Blues, square=True, fmt=\"\")\n",
        "plt.tight_layout()\n",
        "plt.ylabel('True label')\n",
        "plt.xlabel('Predicted label')\n",
        "plt.show()"
      ],
      "execution_count": 72,
      "outputs": [
        {
          "output_type": "display_data",
          "data": {
            "image/png": "[encoded data removed]",
            "text/plain": [
              "<Figure size 576x576 with 2 Axes>"
            ]
          },
          "metadata": {
            "tags": [],
            "needs_background": "light"
          }
        }
      ]
    },
    {
      "cell_type": "code",
      "metadata": {
        "colab": {
          "base_uri": "https://localhost:8080/"
        },
        "id": "BrYMjzmU2Fsx",
        "outputId": "e05952e3-6241-4fba-f39a-7c0f74861369"
      },
      "source": [
        "print(\"Precision:\", precision_score(y_test_round, y_pred))\n",
        "print(\"Recall:\", recall_score(y_test_round, y_pred))\n",
        "print(\"F1 score:\", f1_score(y_test_round,y_pred))"
      ],
      "execution_count": 73,
      "outputs": [
        {
          "output_type": "stream",
          "text": [
            "Precision: 0.9097744360902256\n",
            "Recall: 0.9236641221374046\n",
            "F1 score: 0.9166666666666667\n"
          ],
          "name": "stdout"
        }
      ]
    },
    {
      "cell_type": "code",
      "metadata": {
        "id": "FgNUNI9D2oin"
      },
      "source": [
        ""
      ],
      "execution_count": 34,
      "outputs": []
    }
  ]
}